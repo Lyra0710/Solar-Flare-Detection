{
 "cells": [
  {
   "cell_type": "code",
   "execution_count": 8,
   "metadata": {},
   "outputs": [],
   "source": [
    "import pandas as pd\n",
    "import matplotlib.pyplot as plt\n",
    "import tensorflow\n",
    "import keras\n",
    "import numpy as np\n",
    "import tensorflow as tf\n",
    "from tensorflow import keras\n",
    "from tensorflow.keras import layers\n",
    "from sklearn.model_selection import train_test_split\n",
    "from sklearn.metrics import mean_absolute_error, mean_squared_error"
   ]
  },
  {
   "cell_type": "code",
   "execution_count": 2,
   "metadata": {},
   "outputs": [],
   "source": [
    "df = pd.read_pickle('./data/final_df')"
   ]
  },
  {
   "cell_type": "code",
   "execution_count": 3,
   "metadata": {},
   "outputs": [
    {
     "data": {
      "text/html": [
       "<div>\n",
       "<style scoped>\n",
       "    .dataframe tbody tr th:only-of-type {\n",
       "        vertical-align: middle;\n",
       "    }\n",
       "\n",
       "    .dataframe tbody tr th {\n",
       "        vertical-align: top;\n",
       "    }\n",
       "\n",
       "    .dataframe thead th {\n",
       "        text-align: right;\n",
       "    }\n",
       "</style>\n",
       "<table border=\"1\" class=\"dataframe\">\n",
       "  <thead>\n",
       "    <tr style=\"text-align: right;\">\n",
       "      <th></th>\n",
       "      <th>WindSpeedX</th>\n",
       "      <th>WindSpeedY</th>\n",
       "      <th>WindSpeedZ</th>\n",
       "      <th>Kp</th>\n",
       "      <th>ap</th>\n",
       "      <th>0</th>\n",
       "      <th>1</th>\n",
       "      <th>2</th>\n",
       "      <th>3</th>\n",
       "      <th>4</th>\n",
       "      <th>5</th>\n",
       "      <th>6</th>\n",
       "      <th>7</th>\n",
       "      <th>8</th>\n",
       "      <th>9</th>\n",
       "    </tr>\n",
       "  </thead>\n",
       "  <tbody>\n",
       "    <tr>\n",
       "      <th>0</th>\n",
       "      <td>1.487795</td>\n",
       "      <td>-0.359055</td>\n",
       "      <td>-6.386987</td>\n",
       "      <td>3.579217</td>\n",
       "      <td>7.013861</td>\n",
       "      <td>-0.478411</td>\n",
       "      <td>5.327612</td>\n",
       "      <td>3.880516</td>\n",
       "      <td>1.496256</td>\n",
       "      <td>0.547225</td>\n",
       "      <td>0.290276</td>\n",
       "      <td>1.396452</td>\n",
       "      <td>-0.043085</td>\n",
       "      <td>-0.015895</td>\n",
       "      <td>0.263997</td>\n",
       "    </tr>\n",
       "    <tr>\n",
       "      <th>1</th>\n",
       "      <td>1.152662</td>\n",
       "      <td>-1.184712</td>\n",
       "      <td>-4.362110</td>\n",
       "      <td>3.035520</td>\n",
       "      <td>4.670888</td>\n",
       "      <td>-7.719191</td>\n",
       "      <td>-9.171954</td>\n",
       "      <td>-6.021901</td>\n",
       "      <td>-8.260704</td>\n",
       "      <td>-2.091493</td>\n",
       "      <td>-1.590709</td>\n",
       "      <td>-1.242020</td>\n",
       "      <td>1.314685</td>\n",
       "      <td>-0.516834</td>\n",
       "      <td>0.771276</td>\n",
       "    </tr>\n",
       "    <tr>\n",
       "      <th>2</th>\n",
       "      <td>1.479125</td>\n",
       "      <td>-1.773211</td>\n",
       "      <td>-3.120826</td>\n",
       "      <td>2.764079</td>\n",
       "      <td>3.889897</td>\n",
       "      <td>-7.922941</td>\n",
       "      <td>-9.369014</td>\n",
       "      <td>-5.844717</td>\n",
       "      <td>-8.099330</td>\n",
       "      <td>-2.344532</td>\n",
       "      <td>-1.963089</td>\n",
       "      <td>-1.132759</td>\n",
       "      <td>1.329882</td>\n",
       "      <td>-0.545749</td>\n",
       "      <td>0.923759</td>\n",
       "    </tr>\n",
       "    <tr>\n",
       "      <th>3</th>\n",
       "      <td>1.258180</td>\n",
       "      <td>-2.165994</td>\n",
       "      <td>1.479697</td>\n",
       "      <td>1.405243</td>\n",
       "      <td>0.961181</td>\n",
       "      <td>-0.725512</td>\n",
       "      <td>3.627122</td>\n",
       "      <td>0.693456</td>\n",
       "      <td>0.105023</td>\n",
       "      <td>1.731850</td>\n",
       "      <td>0.614801</td>\n",
       "      <td>1.022090</td>\n",
       "      <td>0.650107</td>\n",
       "      <td>0.184201</td>\n",
       "      <td>-0.386600</td>\n",
       "    </tr>\n",
       "    <tr>\n",
       "      <th>4</th>\n",
       "      <td>2.196549</td>\n",
       "      <td>-1.937583</td>\n",
       "      <td>-0.392775</td>\n",
       "      <td>0.047223</td>\n",
       "      <td>-0.210305</td>\n",
       "      <td>-7.963528</td>\n",
       "      <td>-9.560413</td>\n",
       "      <td>-5.621810</td>\n",
       "      <td>-7.833228</td>\n",
       "      <td>-2.178333</td>\n",
       "      <td>-2.433747</td>\n",
       "      <td>-1.084654</td>\n",
       "      <td>1.261405</td>\n",
       "      <td>-0.699100</td>\n",
       "      <td>1.024394</td>\n",
       "    </tr>\n",
       "  </tbody>\n",
       "</table>\n",
       "</div>"
      ],
      "text/plain": [
       "   WindSpeedX  WindSpeedY  WindSpeedZ        Kp        ap         0         1  \\\n",
       "0    1.487795   -0.359055   -6.386987  3.579217  7.013861 -0.478411  5.327612   \n",
       "1    1.152662   -1.184712   -4.362110  3.035520  4.670888 -7.719191 -9.171954   \n",
       "2    1.479125   -1.773211   -3.120826  2.764079  3.889897 -7.922941 -9.369014   \n",
       "3    1.258180   -2.165994    1.479697  1.405243  0.961181 -0.725512  3.627122   \n",
       "4    2.196549   -1.937583   -0.392775  0.047223 -0.210305 -7.963528 -9.560413   \n",
       "\n",
       "          2         3         4         5         6         7         8  \\\n",
       "0  3.880516  1.496256  0.547225  0.290276  1.396452 -0.043085 -0.015895   \n",
       "1 -6.021901 -8.260704 -2.091493 -1.590709 -1.242020  1.314685 -0.516834   \n",
       "2 -5.844717 -8.099330 -2.344532 -1.963089 -1.132759  1.329882 -0.545749   \n",
       "3  0.693456  0.105023  1.731850  0.614801  1.022090  0.650107  0.184201   \n",
       "4 -5.621810 -7.833228 -2.178333 -2.433747 -1.084654  1.261405 -0.699100   \n",
       "\n",
       "          9  \n",
       "0  0.263997  \n",
       "1  0.771276  \n",
       "2  0.923759  \n",
       "3 -0.386600  \n",
       "4  1.024394  "
      ]
     },
     "execution_count": 3,
     "metadata": {},
     "output_type": "execute_result"
    }
   ],
   "source": [
    "df.head()"
   ]
  },
  {
   "cell_type": "code",
   "execution_count": 4,
   "metadata": {},
   "outputs": [],
   "source": [
    "def create_train_window(valores, group_size=20):\n",
    "    x_train = []\n",
    "    y_train = []\n",
    "    x_test = []\n",
    "    y_test = []\n",
    "    for i in range(0, len(valores)-group_size-1):\n",
    "        if(i < (len(valores)-group_size-1)*0.8):\n",
    "            x_train.append(valores[i:group_size+i])\n",
    "            y_train.append(valores[i+group_size][-2])\n",
    "        else:\n",
    "            x_test.append(valores[i:group_size+i])\n",
    "            y_test.append(valores[i+group_size][-2])\n",
    "    return np.array(x_train), np.array(y_train), np.array(x_test), np.array(y_test)"
   ]
  },
  {
   "cell_type": "code",
   "execution_count": 5,
   "metadata": {},
   "outputs": [
    {
     "data": {
      "text/plain": [
       "(40, 15)"
      ]
     },
     "execution_count": 5,
     "metadata": {},
     "output_type": "execute_result"
    }
   ],
   "source": [
    "x_train, y_train, x_test, y_test = create_train_window(np.array(df), 40)\n",
    "input_shape_w=np.shape(x_train[0])\n",
    "input_shape_w"
   ]
  },
  {
   "cell_type": "code",
   "execution_count": 6,
   "metadata": {},
   "outputs": [],
   "source": [
    "from tensorflow.keras.callbacks import EarlyStopping\n",
    "early_stopping = EarlyStopping(\n",
    "    monitor='val_loss',     # Monitor validation loss\n",
    "    patience=10,            # Number of epochs with no improvement before stopping\n",
    "    verbose=1,              # Verbosity level (1 for updates, 0 for silent)\n",
    "    restore_best_weights=True  # Restore the best weights when stopping\n",
    ")"
   ]
  },
  {
   "cell_type": "code",
   "execution_count": 9,
   "metadata": {},
   "outputs": [],
   "source": [
    "model = keras.Sequential()\n",
    "model.add(layers.BatchNormalization())\n",
    "model.add(layers.LSTM(256, input_shape=input_shape_w, return_sequences=True))\n",
    "model.add(layers.Dropout(0.2))\n",
    "model.add(layers.BatchNormalization())\n",
    "model.add(layers.LSTM(128, return_sequences=False, dropout=0, recurrent_dropout=0))\n",
    "model.add(layers.Dense(32, activation='relu'))\n",
    "model.add(layers.Dropout(0.2))\n",
    "model.add(layers.BatchNormalization())\n",
    "model.add(layers.Dense(32, activation='relu'))\n",
    "model.add(layers.Dropout(0.1))\n",
    "model.add(layers.Dense(16, activation='relu'))\n",
    "model.add(layers.Dense(1, activation='linear'))\n",
    "model.compile(optimizer='adam', loss='mse', metrics=['accuracy'])\n",
    "# model.summary()"
   ]
  },
  {
   "cell_type": "code",
   "execution_count": 10,
   "metadata": {},
   "outputs": [
    {
     "name": "stdout",
     "output_type": "stream",
     "text": [
      "Epoch 1/50\n",
      "300/300 [==============================] - 61s 171ms/step - loss: 0.6452 - accuracy: 0.0000e+00 - val_loss: 0.4527 - val_accuracy: 0.0000e+00\n",
      "Epoch 2/50\n",
      "300/300 [==============================] - 47s 155ms/step - loss: 0.5809 - accuracy: 0.0000e+00 - val_loss: 0.4203 - val_accuracy: 0.0000e+00\n",
      "Epoch 3/50\n",
      "300/300 [==============================] - 47s 155ms/step - loss: 0.5112 - accuracy: 0.0000e+00 - val_loss: 0.3575 - val_accuracy: 0.0000e+00\n",
      "Epoch 4/50\n",
      "300/300 [==============================] - 47s 158ms/step - loss: 0.4618 - accuracy: 0.0000e+00 - val_loss: 0.3245 - val_accuracy: 0.0000e+00\n",
      "Epoch 5/50\n",
      "300/300 [==============================] - 47s 158ms/step - loss: 0.4373 - accuracy: 0.0000e+00 - val_loss: 0.3210 - val_accuracy: 0.0000e+00\n",
      "Epoch 6/50\n",
      "300/300 [==============================] - 47s 158ms/step - loss: 0.4196 - accuracy: 0.0000e+00 - val_loss: 0.3078 - val_accuracy: 0.0000e+00\n",
      "Epoch 7/50\n",
      "300/300 [==============================] - 47s 158ms/step - loss: 0.4138 - accuracy: 0.0000e+00 - val_loss: 0.3621 - val_accuracy: 0.0000e+00\n",
      "Epoch 8/50\n",
      "300/300 [==============================] - 47s 158ms/step - loss: 0.4065 - accuracy: 0.0000e+00 - val_loss: 0.3216 - val_accuracy: 0.0000e+00\n",
      "Epoch 9/50\n",
      "300/300 [==============================] - 50s 166ms/step - loss: 0.4055 - accuracy: 0.0000e+00 - val_loss: 0.3162 - val_accuracy: 0.0000e+00\n",
      "Epoch 10/50\n",
      "300/300 [==============================] - 48s 160ms/step - loss: 0.3928 - accuracy: 0.0000e+00 - val_loss: 0.3185 - val_accuracy: 0.0000e+00\n",
      "Epoch 11/50\n",
      "300/300 [==============================] - 47s 157ms/step - loss: 0.3869 - accuracy: 0.0000e+00 - val_loss: 0.5768 - val_accuracy: 0.0000e+00\n",
      "Epoch 12/50\n",
      "300/300 [==============================] - 51s 171ms/step - loss: 0.4030 - accuracy: 0.0000e+00 - val_loss: 0.3303 - val_accuracy: 0.0000e+00\n",
      "Epoch 13/50\n",
      "300/300 [==============================] - 67s 223ms/step - loss: 0.3926 - accuracy: 0.0000e+00 - val_loss: 0.3433 - val_accuracy: 0.0000e+00\n",
      "Epoch 14/50\n",
      "300/300 [==============================] - 55s 183ms/step - loss: 0.3900 - accuracy: 0.0000e+00 - val_loss: 0.3505 - val_accuracy: 0.0000e+00\n",
      "Epoch 15/50\n",
      "300/300 [==============================] - 56s 188ms/step - loss: 0.3883 - accuracy: 0.0000e+00 - val_loss: 0.3532 - val_accuracy: 0.0000e+00\n",
      "Epoch 16/50\n",
      "300/300 [==============================] - ETA: 0s - loss: 0.3687 - accuracy: 0.0000e+00Restoring model weights from the end of the best epoch: 6.\n",
      "300/300 [==============================] - 59s 196ms/step - loss: 0.3687 - accuracy: 0.0000e+00 - val_loss: 0.3242 - val_accuracy: 0.0000e+00\n",
      "Epoch 16: early stopping\n"
     ]
    },
    {
     "data": {
      "text/plain": [
       "<keras.src.callbacks.History at 0x22ab6726090>"
      ]
     },
     "execution_count": 10,
     "metadata": {},
     "output_type": "execute_result"
    }
   ],
   "source": [
    "model.fit(x_train, y_train, shuffle=True, batch_size=32, epochs=50, validation_split=0.3,callbacks=[early_stopping])"
   ]
  },
  {
   "cell_type": "code",
   "execution_count": 11,
   "metadata": {},
   "outputs": [
    {
     "name": "stdout",
     "output_type": "stream",
     "text": [
      "108/108 [==============================] - 6s 40ms/step\n",
      "0.4100768649669275\n",
      "0.3698870767738638\n"
     ]
    }
   ],
   "source": [
    "y_prediction = model.predict(x_test)\n",
    "print(mean_absolute_error(y_test,y_prediction))\n",
    "print(mean_squared_error(y_test,y_prediction))"
   ]
  },
  {
   "cell_type": "code",
   "execution_count": 12,
   "metadata": {},
   "outputs": [
    {
     "data": {
      "text/plain": [
       "[<matplotlib.lines.Line2D at 0x22ac200f690>]"
      ]
     },
     "execution_count": 12,
     "metadata": {},
     "output_type": "execute_result"
    },
    {
     "data": {
      "image/png": "[encoded data removed]",
      "text/plain": [
       "<Figure size 640x480 with 1 Axes>"
      ]
     },
     "metadata": {},
     "output_type": "display_data"
    }
   ],
   "source": [
    "plt.plot(y_test)\n",
    "plt.plot(y_prediction,c='r')"
   ]
  },
  {
   "cell_type": "code",
   "execution_count": 13,
   "metadata": {},
   "outputs": [
    {
     "data": {
      "text/plain": [
       "array([ 0.08221968, -0.36619327, -0.50219506, ...,  0.38621013,\n",
       "        0.60825786,  0.54369992])"
      ]
     },
     "execution_count": 13,
     "metadata": {},
     "output_type": "execute_result"
    }
   ],
   "source": [
    "y_test"
   ]
  }
 ],
 "metadata": {
  "kernelspec": {
   "display_name": "Python 3",
   "language": "python",
   "name": "python3"
  },
  "language_info": {
   "codemirror_mode": {
    "name": "ipython",
    "version": 3
   },
   "file_extension": ".py",
   "mimetype": "text/x-python",
   "name": "python",
   "nbconvert_exporter": "python",
   "pygments_lexer": "ipython3",
   "version": "3.11.2"
  }
 },
 "nbformat": 4,
 "nbformat_minor": 2
}
